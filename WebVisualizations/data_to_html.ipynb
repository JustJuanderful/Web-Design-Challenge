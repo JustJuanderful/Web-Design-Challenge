{
 "cells": [
  {
   "cell_type": "code",
   "execution_count": 1,
   "metadata": {},
   "outputs": [],
   "source": [
    "# Dependencies and Setup\n",
    "import pandas as pd\n",
    "import os"
   ]
  },
  {
   "cell_type": "code",
   "execution_count": 2,
   "metadata": {},
   "outputs": [
    {
     "data": {
      "text/plain": [
       "'.\\\\Resources\\\\output_cities.csv'"
      ]
     },
     "execution_count": 2,
     "metadata": {},
     "output_type": "execute_result"
    }
   ],
   "source": [
    "# Path to csv file\n",
    "cities_file = os.path.join('.','Resources','output_cities.csv')\n",
    "cities_file"
   ]
  },
  {
   "cell_type": "code",
   "execution_count": 15,
   "metadata": {},
   "outputs": [
    {
     "data": {
      "text/html": [
       "<div>\n",
       "<style scoped>\n",
       "    .dataframe tbody tr th:only-of-type {\n",
       "        vertical-align: middle;\n",
       "    }\n",
       "\n",
       "    .dataframe tbody tr th {\n",
       "        vertical-align: top;\n",
       "    }\n",
       "\n",
       "    .dataframe thead th {\n",
       "        text-align: right;\n",
       "    }\n",
       "</style>\n",
       "<table border=\"1\" class=\"dataframe\">\n",
       "  <thead>\n",
       "    <tr style=\"text-align: right;\">\n",
       "      <th></th>\n",
       "      <th>City_ID</th>\n",
       "      <th>City</th>\n",
       "      <th>Temperature (F)</th>\n",
       "      <th>Humidity (%)</th>\n",
       "      <th>Cloudiness (%)</th>\n",
       "      <th>Wind Speed (mph)</th>\n",
       "      <th>Latitude</th>\n",
       "      <th>Longditude</th>\n",
       "      <th>Country</th>\n",
       "      <th>Date_Time</th>\n",
       "    </tr>\n",
       "  </thead>\n",
       "  <tbody>\n",
       "    <tr>\n",
       "      <th>0</th>\n",
       "      <td>0</td>\n",
       "      <td>rikitea</td>\n",
       "      <td>73.47</td>\n",
       "      <td>66</td>\n",
       "      <td>99</td>\n",
       "      <td>12.82</td>\n",
       "      <td>-23.12</td>\n",
       "      <td>-134.97</td>\n",
       "      <td>PF</td>\n",
       "      <td>1588574897</td>\n",
       "    </tr>\n",
       "    <tr>\n",
       "      <th>1</th>\n",
       "      <td>1</td>\n",
       "      <td>mahebourg</td>\n",
       "      <td>80.60</td>\n",
       "      <td>74</td>\n",
       "      <td>40</td>\n",
       "      <td>13.87</td>\n",
       "      <td>-20.41</td>\n",
       "      <td>57.70</td>\n",
       "      <td>MU</td>\n",
       "      <td>1588574897</td>\n",
       "    </tr>\n",
       "    <tr>\n",
       "      <th>2</th>\n",
       "      <td>2</td>\n",
       "      <td>sola</td>\n",
       "      <td>80.60</td>\n",
       "      <td>94</td>\n",
       "      <td>90</td>\n",
       "      <td>5.53</td>\n",
       "      <td>-13.88</td>\n",
       "      <td>167.55</td>\n",
       "      <td>VU</td>\n",
       "      <td>1588574897</td>\n",
       "    </tr>\n",
       "    <tr>\n",
       "      <th>3</th>\n",
       "      <td>3</td>\n",
       "      <td>busselton</td>\n",
       "      <td>69.01</td>\n",
       "      <td>63</td>\n",
       "      <td>25</td>\n",
       "      <td>16.89</td>\n",
       "      <td>-33.65</td>\n",
       "      <td>115.33</td>\n",
       "      <td>AU</td>\n",
       "      <td>1588574898</td>\n",
       "    </tr>\n",
       "    <tr>\n",
       "      <th>4</th>\n",
       "      <td>4</td>\n",
       "      <td>talnakh</td>\n",
       "      <td>23.00</td>\n",
       "      <td>85</td>\n",
       "      <td>69</td>\n",
       "      <td>33.55</td>\n",
       "      <td>69.49</td>\n",
       "      <td>88.40</td>\n",
       "      <td>RU</td>\n",
       "      <td>1588574898</td>\n",
       "    </tr>\n",
       "  </tbody>\n",
       "</table>\n",
       "</div>"
      ],
      "text/plain": [
       "   City_ID       City  Temperature (F)  Humidity (%)  Cloudiness (%)  \\\n",
       "0        0    rikitea            73.47            66              99   \n",
       "1        1  mahebourg            80.60            74              40   \n",
       "2        2       sola            80.60            94              90   \n",
       "3        3  busselton            69.01            63              25   \n",
       "4        4    talnakh            23.00            85              69   \n",
       "\n",
       "   Wind Speed (mph)  Latitude  Longditude Country   Date_Time  \n",
       "0             12.82    -23.12     -134.97      PF  1588574897  \n",
       "1             13.87    -20.41       57.70      MU  1588574897  \n",
       "2              5.53    -13.88      167.55      VU  1588574897  \n",
       "3             16.89    -33.65      115.33      AU  1588574898  \n",
       "4             33.55     69.49       88.40      RU  1588574898  "
      ]
     },
     "execution_count": 15,
     "metadata": {},
     "output_type": "execute_result"
    }
   ],
   "source": [
    "# Read in csv - convert to pandas DataFrame\n",
    "cities_data = pd.read_csv(cities_file)\n",
    "cities_df = pd.DataFrame(cities_data)\n",
    "cities_df.rename(columns={'Unnamed: 0' : 'City_ID'}, inplace = True)\n",
    "cities_df.head()"
   ]
  },
  {
   "cell_type": "code",
   "execution_count": 16,
   "metadata": {},
   "outputs": [],
   "source": [
    "# Output to html format\n",
    "cities_df.to_html('./Resources/cities.html', index=False)"
   ]
  },
  {
   "cell_type": "code",
   "execution_count": null,
   "metadata": {},
   "outputs": [],
   "source": []
  }
 ],
 "metadata": {
  "kernelspec": {
   "display_name": "Python 3",
   "language": "python",
   "name": "python3"
  },
  "language_info": {
   "codemirror_mode": {
    "name": "ipython",
    "version": 3
   },
   "file_extension": ".py",
   "mimetype": "text/x-python",
   "name": "python",
   "nbconvert_exporter": "python",
   "pygments_lexer": "ipython3",
   "version": "3.7.6"
  }
 },
 "nbformat": 4,
 "nbformat_minor": 4
}
